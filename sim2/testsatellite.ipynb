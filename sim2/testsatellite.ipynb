{
 "cells": [
  {
   "cell_type": "code",
   "execution_count": 1,
   "metadata": {},
   "outputs": [],
   "source": [
    "import torch\n",
    "from scipy.spatial import transform\n",
    "import numpy as np\n",
    "from orbit_gen import get_random_orbit, get_Rz, get_nadir_attitude, get_nadir_attitude_vectors\n",
    "from PIL import Image\n",
    "import rasterio\n",
    "import matplotlib.pyplot as plt\n",
    "from getMGRS import getMGRS"
   ]
  },
  {
   "cell_type": "code",
   "execution_count": 2,
   "metadata": {},
   "outputs": [],
   "source": [
    "def get_eci_orbit(tf=None):\n",
    "    if tf is not None:\n",
    "        orbit_eci, tsamp, orbit_eci_q = get_random_orbit(tf=tf)\n",
    "    else:\n",
    "        orbit_eci, tsamp, orbit_eci_q = get_random_orbit()\n",
    "    return orbit_eci, tsamp, orbit_eci_q\n",
    "\n",
    "def get_orbit(tf=None):\n",
    "    if tf is not None:\n",
    "        orbit_eci, tsamp, orbit_eci_q = get_eci_orbit(tf)\n",
    "    else:   \n",
    "        orbit_eci, tsamp, orbit_eci_q = get_eci_orbit()\n",
    "    # get time samples for Earth rotation\n",
    "    Rzs = get_Rz(tsamp)\n",
    "    # Get ECI position vector\n",
    "    r_eci = orbit_eci[:, :3, np.newaxis]\n",
    "    # Convert ECI position vector to ECEF\n",
    "    r_ecef = np.matmul(Rzs, r_eci)\n",
    "\n",
    "    # Stack position and attitude and convert to meters\n",
    "    orbit_ecef = np.concatenate([r_ecef[:,:,0]*1000, orbit_eci[:,3:]], axis=1)\n",
    "    return orbit_ecef, orbit_eci, tsamp, orbit_eci_q"
   ]
  },
  {
   "cell_type": "code",
   "execution_count": 3,
   "metadata": {},
   "outputs": [],
   "source": [
    "orbit_ecef, orbit_eci, tsamp, orbit_eci_q = get_orbit(1000)"
   ]
  },
  {
   "cell_type": "code",
   "execution_count": 4,
   "metadata": {},
   "outputs": [],
   "source": [
    "class Vector3D:\n",
    "    def __init__(self, x, y, z, device='cuda', dtype=torch.float64):\n",
    "        self.x = torch.tensor(x, device=device, dtype=dtype)\n",
    "        self.y = torch.tensor(y, device=device, dtype=dtype)\n",
    "        self.z = torch.tensor(z, device=device, dtype=dtype)\n",
    "    def get(self):\n",
    "        return torch.stack([self.x, self.y, self.z], dim=0)"
   ]
  },
  {
   "cell_type": "code",
   "execution_count": 5,
   "metadata": {},
   "outputs": [],
   "source": [
    "class SatelliteCamera:\n",
    "    def __init__(self, fov, res, device='cuda', dtype=torch.float64):\n",
    "        self.hfov = torch.tensor(fov, device=device, dtype=dtype)\n",
    "        self.res = torch.tensor(res, device=device, dtype=dtype)\n",
    "        self.vfov = self.hfov * (self.res[1] / self.res[0])\n",
    "        self.focal_length = (self.res[0] / 2) / torch.tan(torch.deg2rad(self.hfov) / 2)\n",
    "        self.device = device\n",
    "        self.dtype = dtype\n",
    "        self.K = self.intrinsic_matrix()\n",
    "        self.pixel_locs = self.get_pixel_coords(res[1], res[0])\n",
    "        self.grid = getMGRS()\n",
    "    \n",
    "    def get_intrinsic_matrix(self):\n",
    "        return self.K\n",
    "\n",
    "    def intrinsic_matrix(self):\n",
    "        return torch.tensor([[self.focal_length, 0, self.res[0]/2], [0, self.focal_length, self.res[1]/2], [0, 0, 1]], device=self.device, dtype=self.dtype)\n",
    "    \n",
    "    def get_extrinsic_matrices(self, pos_vecs, dir_vecs, up_vecs, right_vecs):\n",
    "        R_cw = torch.stack([right_vecs.get(), -up_vecs.get(), dir_vecs.get()]).permute(2, 0, 1)\n",
    "        pos_c = -torch.matmul(R_cw, pos_vecs.get().t().unsqueeze(-1))\n",
    "        K_hom = torch.cat((self.K, torch.tensor([[0, 0, 0]], dtype=self.dtype, device=self.device)))\n",
    "        K_hom = torch.cat((K_hom, torch.tensor([[0, 0, 0, 1]], dtype=self.dtype, device=self.device).t()), dim=1)\n",
    "        E = torch.cat((R_cw, pos_c), dim=-1)\n",
    "        hombatch = torch.zeros((E.shape[0], 1, 4), dtype=self.dtype, device=self.device)\n",
    "        hombatch[:,:,-1] = 1\n",
    "        E_hom = torch.cat((E, hombatch),dim=1)\n",
    "        C_cw = torch.matmul(K_hom, E_hom)\n",
    "        self.C_cw = C_cw\n",
    "        return C_cw\n",
    "    \n",
    "    def get_pixel_coords(self, h, w):\n",
    "        xs = torch.arange(0, w, device=self.device, dtype=self.dtype) + 0.5\n",
    "        ys = torch.arange(0, h, device=self.device, dtype=self.dtype) + 0.5\n",
    "        cartesian_prod = torch.cartesian_prod(xs, ys)\n",
    "        pixel_locs = torch.cat((cartesian_prod, torch.ones((w*h, 1), device=self.device, dtype=self.dtype)), dim=1)\n",
    "        return pixel_locs\n",
    "\n",
    "    def get_corner_rays(self):\n",
    "        C_cw_inv = torch.inverse(self.C_cw)\n",
    "        corner_locs_hom = torch.tensor([[0, 0, 1, 0], [0, self.res[1], 1, 0], [self.res[0], self.res[1], 1, 0], [self.res[0], 0, 1, 0]], device=self.device, dtype=self.dtype)\n",
    "        ray_vecs = torch.matmul(C_cw_inv, corner_locs_hom.t())\n",
    "        ray_vecs = ray_vecs[:, :3, :] / torch.norm(ray_vecs[:, :3, :], dim=1).unsqueeze(1)\n",
    "        return ray_vecs\n",
    "\n",
    "    def get_ray_directions(self):\n",
    "        C_cw_inv = torch.inverse(self.C_cw)\n",
    "        pixel_locs_hom = torch.cat([self.pixel_locs, torch.zeros((self.pixel_locs.shape[0], 1), device=self.device, dtype=self.dtype)], dim=1)\n",
    "        ray_vecs = torch.matmul(C_cw_inv, pixel_locs_hom.t())\n",
    "        ray_vecs = ray_vecs[:, :3, :] / torch.norm(ray_vecs[:, :3, :], dim=1).unsqueeze(1)\n",
    "        return ray_vecs\n",
    "        \n",
    "    def cast_rays(self, rays, pos_vecs):\n",
    "        a = b = torch.tensor(6378137.0, device=self.device, dtype=self.dtype)\n",
    "        c = torch.tensor(6356752.31424518, device=self.device, dtype=self.dtype)\n",
    "        us = rays[:, 0, :]\n",
    "        vs = rays[:, 1, :]\n",
    "        ws = rays[:, 2, :]\n",
    "        x = pos_vecs.x.unsqueeze(-1)\n",
    "        y = pos_vecs.y.unsqueeze(-1)\n",
    "        z = pos_vecs.z.unsqueeze(-1)\n",
    "        value = -a**2*b**2*ws*z - a**2*c**2*vs*y - b**2*c**2*us*x\n",
    "        radical = a**2*b**2*ws**2 + a**2*c**2*vs**2 - a**2*vs**2*z**2 + 2*a**2*vs*ws*y*z - a**2*ws**2*y**2 + b**2*c**2*us**2 - b**2*us**2*z**2 + 2*b**2*us*ws*x*z - b**2*ws**2*x**2 - c**2*us**2*y**2 + 2*c**2*us*vs*x*y - c**2*vs**2*x**2\n",
    "        magnitude = a**2*b**2*ws**2 + a**2*c**2*vs**2 + b**2*c**2*us**2\n",
    "        d = (value - a*b*c*torch.sqrt(radical)) / magnitude\n",
    "        d[d < 0] = torch.nan\n",
    "\n",
    "        xs_ecef = x + us*d\n",
    "        ys_ecef = y + vs*d\n",
    "        zs_ecef = z + ws*d\n",
    "\n",
    "        return torch.stack([xs_ecef, ys_ecef, zs_ecef], dim=1)\n",
    "    \n",
    "    def ecef_to_llh(self, ecef_locs):\n",
    "        a = torch.tensor(6378137.0, device=self.device, dtype=self.dtype)\n",
    "        c = torch.tensor(6356752.31424518, device=self.device, dtype=self.dtype)\n",
    "        f = (a - c) / a\n",
    "        e_sq = f * (2 - f)\n",
    "        eps = e_sq / (1.0 - e_sq)\n",
    "        xs = ecef_locs[:, 0]\n",
    "        ys = ecef_locs[:, 1]\n",
    "        zs = ecef_locs[:, 2]\n",
    "        p = torch.sqrt(xs**2 + ys**2)\n",
    "        q = torch.atan2(zs * a, p * c)\n",
    "        sin_q = torch.sin(q)\n",
    "        cos_q = torch.cos(q)\n",
    "        sin_q3 = sin_q**3\n",
    "        cos_q3 = cos_q**3\n",
    "        phi = torch.atan2(zs + eps * c * sin_q3, p - e_sq * a * cos_q3)\n",
    "        lam = torch.atan2(ys, xs)\n",
    "        # v = a / torch.sqrt(1.0 - e_sq * torch.sin(phi)**2)\n",
    "        # h = p / torch.cos(phi) - v\n",
    "        lat = torch.rad2deg(phi)\n",
    "        lon = torch.rad2deg(lam)\n",
    "        return lon, lat\n",
    "    \n",
    "    def get_base_im(self):\n",
    "        self.base_im = torch.tensor(np.asarray(Image.open('base_im.jpg')), device=self.device, dtype=torch.uint8)\n",
    "        base_transform = rasterio.transform.from_origin(-180, 90, 0.016666667, 0.016666667)\n",
    "        self.base_transform = torch.tensor(~base_transform, device=self.device, dtype=self.dtype).view(3,3)\n",
    "\n",
    "    def get_indexes_from_coords(self, lon, lat, transform):\n",
    "        lonlat = torch.stack((lon, lat, torch.ones_like(lon)), dim=-1)\n",
    "        self.indexes = torch.matmul(lonlat, transform.t())\n",
    "        self.indexes = torch.round(self.indexes).int()\n",
    "        return self.indexes\n",
    "    \n",
    "    def get_inbounds_indexes(self):\n",
    "        self.inbounds = (self.indexes[:,:, 0] >= 0) & (self.indexes[:,:, 0] < self.base_im.shape[1]) & (self.indexes[:,:, 1] >= 0) & (self.indexes[:,:, 1] < self.base_im.shape[0])\n",
    "        return self.inbounds\n",
    "\n",
    "    def get_region(self, lon, lat):\n",
    "        for key, bounds in self.grid.items():\n",
    "            if lon > bounds[0] and lon < bounds[2] and lat > bounds[1] and lat < bounds[3]:\n",
    "                return key\n",
    "        return None\n",
    "\n",
    "    def get_region_batch(self, lons, lats):\n",
    "        regions = []\n",
    "        for i in range(lons.shape[0]):\n",
    "            regions.append(self.get_region(lons[i], lats[i]))\n",
    "        return regions\n",
    "\n",
    "cam = SatelliteCamera(66, [4608, 2592])"
   ]
  },
  {
   "cell_type": "code",
   "execution_count": 25,
   "metadata": {},
   "outputs": [
    {
     "ename": "RuntimeError",
     "evalue": "\"baddbmm_cuda\" not implemented for 'Int'",
     "output_type": "error",
     "traceback": [
      "\u001b[1;31m---------------------------------------------------------------------------\u001b[0m",
      "\u001b[1;31mRuntimeError\u001b[0m                              Traceback (most recent call last)",
      "Cell \u001b[1;32mIn[25], line 7\u001b[0m\n\u001b[0;32m      5\u001b[0m up_vecs \u001b[38;5;241m=\u001b[39m Vector3D(orbit_ecef[:, \u001b[38;5;241m6\u001b[39m], orbit_ecef[:, \u001b[38;5;241m7\u001b[39m], orbit_ecef[:, \u001b[38;5;241m8\u001b[39m], device\u001b[38;5;241m=\u001b[39mdevice, dtype\u001b[38;5;241m=\u001b[39mdtype)\n\u001b[0;32m      6\u001b[0m right_vecs \u001b[38;5;241m=\u001b[39m Vector3D(orbit_ecef[:, \u001b[38;5;241m9\u001b[39m], orbit_ecef[:, \u001b[38;5;241m10\u001b[39m], orbit_ecef[:, \u001b[38;5;241m11\u001b[39m], device\u001b[38;5;241m=\u001b[39mdevice, dtype\u001b[38;5;241m=\u001b[39mdtype)\n\u001b[1;32m----> 7\u001b[0m C_cw \u001b[38;5;241m=\u001b[39m \u001b[43mcam\u001b[49m\u001b[38;5;241;43m.\u001b[39;49m\u001b[43mget_extrinsic_matrices\u001b[49m\u001b[43m(\u001b[49m\u001b[43mpos_vecs\u001b[49m\u001b[43m,\u001b[49m\u001b[43m \u001b[49m\u001b[43mdir_vecs\u001b[49m\u001b[43m,\u001b[49m\u001b[43m \u001b[49m\u001b[43mup_vecs\u001b[49m\u001b[43m,\u001b[49m\u001b[43m \u001b[49m\u001b[43mright_vecs\u001b[49m\u001b[43m)\u001b[49m\n\u001b[0;32m      8\u001b[0m batch_size \u001b[38;5;241m=\u001b[39m \u001b[38;5;241m1\u001b[39m\n\u001b[0;32m      9\u001b[0m num_batches \u001b[38;5;241m=\u001b[39m orbit_ecef\u001b[38;5;241m.\u001b[39mshape[\u001b[38;5;241m0\u001b[39m] \u001b[38;5;241m/\u001b[39m\u001b[38;5;241m/\u001b[39m batch_size\n",
      "Cell \u001b[1;32mIn[5], line 21\u001b[0m, in \u001b[0;36mSatelliteCamera.get_extrinsic_matrices\u001b[1;34m(self, pos_vecs, dir_vecs, up_vecs, right_vecs)\u001b[0m\n\u001b[0;32m     19\u001b[0m \u001b[38;5;28;01mdef\u001b[39;00m \u001b[38;5;21mget_extrinsic_matrices\u001b[39m(\u001b[38;5;28mself\u001b[39m, pos_vecs, dir_vecs, up_vecs, right_vecs):\n\u001b[0;32m     20\u001b[0m     R_cw \u001b[38;5;241m=\u001b[39m torch\u001b[38;5;241m.\u001b[39mstack([right_vecs\u001b[38;5;241m.\u001b[39mget(), \u001b[38;5;241m-\u001b[39mup_vecs\u001b[38;5;241m.\u001b[39mget(), dir_vecs\u001b[38;5;241m.\u001b[39mget()])\u001b[38;5;241m.\u001b[39mpermute(\u001b[38;5;241m2\u001b[39m, \u001b[38;5;241m0\u001b[39m, \u001b[38;5;241m1\u001b[39m)\n\u001b[1;32m---> 21\u001b[0m     pos_c \u001b[38;5;241m=\u001b[39m \u001b[38;5;241m-\u001b[39m\u001b[43mtorch\u001b[49m\u001b[38;5;241;43m.\u001b[39;49m\u001b[43mmatmul\u001b[49m\u001b[43m(\u001b[49m\u001b[43mR_cw\u001b[49m\u001b[43m,\u001b[49m\u001b[43m \u001b[49m\u001b[43mpos_vecs\u001b[49m\u001b[38;5;241;43m.\u001b[39;49m\u001b[43mget\u001b[49m\u001b[43m(\u001b[49m\u001b[43m)\u001b[49m\u001b[38;5;241;43m.\u001b[39;49m\u001b[43mt\u001b[49m\u001b[43m(\u001b[49m\u001b[43m)\u001b[49m\u001b[38;5;241;43m.\u001b[39;49m\u001b[43munsqueeze\u001b[49m\u001b[43m(\u001b[49m\u001b[38;5;241;43m-\u001b[39;49m\u001b[38;5;241;43m1\u001b[39;49m\u001b[43m)\u001b[49m\u001b[43m)\u001b[49m\n\u001b[0;32m     22\u001b[0m     K_hom \u001b[38;5;241m=\u001b[39m torch\u001b[38;5;241m.\u001b[39mcat((\u001b[38;5;28mself\u001b[39m\u001b[38;5;241m.\u001b[39mK, torch\u001b[38;5;241m.\u001b[39mtensor([[\u001b[38;5;241m0\u001b[39m, \u001b[38;5;241m0\u001b[39m, \u001b[38;5;241m0\u001b[39m]], dtype\u001b[38;5;241m=\u001b[39m\u001b[38;5;28mself\u001b[39m\u001b[38;5;241m.\u001b[39mdtype, device\u001b[38;5;241m=\u001b[39m\u001b[38;5;28mself\u001b[39m\u001b[38;5;241m.\u001b[39mdevice)))\n\u001b[0;32m     23\u001b[0m     K_hom \u001b[38;5;241m=\u001b[39m torch\u001b[38;5;241m.\u001b[39mcat((K_hom, torch\u001b[38;5;241m.\u001b[39mtensor([[\u001b[38;5;241m0\u001b[39m, \u001b[38;5;241m0\u001b[39m, \u001b[38;5;241m0\u001b[39m, \u001b[38;5;241m1\u001b[39m]], dtype\u001b[38;5;241m=\u001b[39m\u001b[38;5;28mself\u001b[39m\u001b[38;5;241m.\u001b[39mdtype, device\u001b[38;5;241m=\u001b[39m\u001b[38;5;28mself\u001b[39m\u001b[38;5;241m.\u001b[39mdevice)\u001b[38;5;241m.\u001b[39mt()), dim\u001b[38;5;241m=\u001b[39m\u001b[38;5;241m1\u001b[39m)\n",
      "\u001b[1;31mRuntimeError\u001b[0m: \"baddbmm_cuda\" not implemented for 'Int'"
     ]
    }
   ],
   "source": [
    "\n",
    "device = 'cuda'\n",
    "dtype = torch.double\n",
    "pos_vecs = Vector3D(orbit_ecef[:, 0], orbit_ecef[:, 1], orbit_ecef[:, 2], device=device, dtype=dtype)\n",
    "dir_vecs = Vector3D(orbit_ecef[:, 3], orbit_ecef[:, 4], orbit_ecef[:, 5], device=device, dtype=dtype)\n",
    "up_vecs = Vector3D(orbit_ecef[:, 6], orbit_ecef[:, 7], orbit_ecef[:, 8], device=device, dtype=dtype)\n",
    "right_vecs = Vector3D(orbit_ecef[:, 9], orbit_ecef[:, 10], orbit_ecef[:, 11], device=device, dtype=dtype)\n",
    "C_cw = cam.get_extrinsic_matrices(pos_vecs, dir_vecs, up_vecs, right_vecs)\n",
    "batch_size = 1\n",
    "num_batches = orbit_ecef.shape[0] // batch_size\n",
    "Image.MAX_IMAGE_PIXELS = None\n",
    "rois = ['10S', '10T', '11R', '12R', '16T', '17R', '17T', '18S', \n",
    "                '32S', '32T', '33S', '33T', '52S', '53S', '54S', '54T']\n",
    "\n",
    "num_batches = 20\n",
    "\n",
    "if num_batches * batch_size < orbit_ecef.shape[0]:\n",
    "    num_batches += 1\n",
    "for batch in range(num_batches):\n",
    "    start_idx = batch * batch_size\n",
    "    end_idx = min((batch + 1) * batch_size, orbit_ecef.shape[0])\n",
    "    pos_vecs = Vector3D(orbit_ecef[start_idx:end_idx, 0], orbit_ecef[start_idx:end_idx, 1], orbit_ecef[start_idx:end_idx, 2], device=device, dtype=dtype)\n",
    "    dir_vecs = Vector3D(orbit_ecef[start_idx:end_idx, 3], orbit_ecef[start_idx:end_idx, 4], orbit_ecef[start_idx:end_idx, 5], device=device, dtype=dtype)\n",
    "    up_vecs = Vector3D(orbit_ecef[start_idx:end_idx, 6], orbit_ecef[start_idx:end_idx, 7], orbit_ecef[start_idx:end_idx, 8], device=device, dtype=dtype)\n",
    "    right_vecs = Vector3D(orbit_ecef[start_idx:end_idx, 9], orbit_ecef[start_idx:end_idx, 10], orbit_ecef[start_idx:end_idx, 11], device=device, dtype=dtype)\n",
    "    C_cw = cam.get_extrinsic_matrices(pos_vecs, dir_vecs, up_vecs, right_vecs)\n",
    "    corner_rays = cam.get_corner_rays()\n",
    "    corner_ecef_locs = cam.cast_rays(corner_rays, pos_vecs)\n",
    "    if torch.isnan(corner_ecef_locs).sum() == corner_ecef_locs.numel():\n",
    "        print('no earth')\n",
    "        continue\n",
    "    corner_lon, corner_lat = cam.ecef_to_llh(corner_ecef_locs)\n",
    "    regions = []\n",
    "    for clon, clat in zip(corner_lon[0], corner_lat[0]):\n",
    "        regions.append(cam.get_region(clon, clat))\n",
    "    if sum([1 for r in regions if r in rois]) == 0:\n",
    "        print('no roi')\n",
    "        continue\n",
    "    ray_vecs = cam.get_ray_directions()\n",
    "    #print(ray_vecs.shape)\n",
    "    #ray_vecs = ray_vecs[:, :3, :] / torch.norm(ray_vecs[:, :3, :], dim=1).unsqueeze(1)\n",
    "    ecef_locs = cam.cast_rays(ray_vecs, pos_vecs)\n",
    "    lon, lat = cam.ecef_to_llh(ecef_locs)\n",
    "    cam.get_base_im()\n",
    "    indexes = cam.get_indexes_from_coords(lon, lat, cam.base_transform)\n",
    "    inbounds = cam.get_inbounds_indexes()\n",
    "    new_im = torch.zeros((cam.res[1].int(), cam.res[0].int(), 3), device=device, dtype=torch.uint8)\n",
    "    in_indexes = indexes[inbounds, :]\n",
    "    in_pl = cam.pixel_locs[inbounds[0,:], :].int()\n",
    "    new_im[in_pl[:, 1], in_pl[:, 0], :] = cam.base_im[in_indexes[:, 1], in_indexes[:, 0], :]\n",
    "    plt.imshow(new_im.cpu().numpy())\n",
    "    plt.show()\n",
    "\n"
   ]
  },
  {
   "cell_type": "code",
   "execution_count": 23,
   "metadata": {},
   "outputs": [
    {
     "name": "stdout",
     "output_type": "stream",
     "text": [
      "None\n",
      "None\n",
      "35F\n",
      "None\n",
      "0.19226598739624023\n"
     ]
    }
   ],
   "source": [
    "import time\n",
    "start = time.time()\n",
    "corner_lon, corner_lat\n",
    "vector_lonlat = torch.cat((corner_lon, corner_lat), dim=0).t()\n",
    "vector_lonlat\n",
    "for vector in vector_lonlat:\n",
    "    print(cam.get_region(vector[0], vector[1]))\n",
    "print(time.time() - start)"
   ]
  },
  {
   "cell_type": "code",
   "execution_count": 24,
   "metadata": {},
   "outputs": [
    {
     "name": "stdout",
     "output_type": "stream",
     "text": [
      "0.0010008811950683594\n"
     ]
    }
   ],
   "source": [
    "grid_bounds = torch.empty((0, 4), device=device, dtype=dtype)\n",
    "region_id_map = {}\n",
    "for i, data in enumerate(cam.grid.items()):\n",
    "    key, val = data\n",
    "    val_tens = torch.tensor(val, device=device, dtype=dtype).view(1,4)\n",
    "    grid_bounds = torch.cat((grid_bounds,val_tens))\n",
    "    region_id_map[i] = key\n",
    "start = time.time()\n",
    "check_bounds_lon = torch.logical_and(vector_lonlat[:, None, 0] > grid_bounds[None, :, 0], vector_lonlat[:, None, 0] < grid_bounds[None, :, 2])\n",
    "check_bounds_lat = torch.logical_and(vector_lonlat[:, None, 1] > grid_bounds[None, :, 1], vector_lonlat[:, None, 1] < grid_bounds[None, :, 3])\n",
    "check_bounds = torch.logical_and(check_bounds_lon, check_bounds_lat)\n",
    "region_id_int = torch.where(check_bounds)\n",
    "region_ids = [region_id_map[i.item()] for i in region_id_int[1]]\n",
    "region_ids = np.unique(region_ids)\n",
    "region_ids\n",
    "print(time.time() - start)"
   ]
  },
  {
   "cell_type": "code",
   "execution_count": 110,
   "metadata": {},
   "outputs": [
    {
     "data": {
      "text/plain": [
       "tensor(True)"
      ]
     },
     "execution_count": 110,
     "metadata": {},
     "output_type": "execute_result"
    }
   ],
   "source": [
    "torch.isnan(torch.tensor([torch.nan])).sum() == torch.tensor([torch.nan]).numel()\n",
    "#torch.isnan(corner_ecef_locs).sum() == corner_ecef_locs.numel()\n"
   ]
  },
  {
   "cell_type": "code",
   "execution_count": 55,
   "metadata": {},
   "outputs": [
    {
     "data": {
      "text/plain": [
       "tensor([[[-2147483648, -2147483648, -2147483648],\n",
       "         [-2147483648, -2147483648, -2147483648],\n",
       "         [-2147483648, -2147483648, -2147483648],\n",
       "         ...,\n",
       "         [-2147483648, -2147483648, -2147483648],\n",
       "         [-2147483648, -2147483648, -2147483648],\n",
       "         [-2147483648, -2147483648, -2147483648]]], device='cuda:0',\n",
       "       dtype=torch.int32)"
      ]
     },
     "execution_count": 55,
     "metadata": {},
     "output_type": "execute_result"
    }
   ],
   "source": [
    "indexes"
   ]
  },
  {
   "cell_type": "code",
   "execution_count": 54,
   "metadata": {},
   "outputs": [
    {
     "name": "stdout",
     "output_type": "stream",
     "text": [
      "torch.Size([1, 11943936, 3]) torch.Size([1, 11943936]) torch.Size([11943936, 3]) torch.Size([0, 3])\n"
     ]
    }
   ],
   "source": [
    "print(indexes.shape, inbounds.shape, cam.pixel_locs.shape, in_indexes.shape)"
   ]
  },
  {
   "cell_type": "code",
   "execution_count": null,
   "metadata": {},
   "outputs": [],
   "source": [
    "# index = 0\n",
    "# C_cw_inv = torch.inverse(C_cw[index])\n",
    "# pixel_locs_hom = torch.cat([cam.pixel_locs, torch.zeros((cam.pixel_locs.shape[0], 1), device=cam.device, dtype=cam.dtype)], dim=1)\n",
    "# ray_vecs = torch.matmul(C_cw_inv, pixel_locs_hom.t())\n",
    "# print(ray_vecs.shape)\n",
    "# corner_rays = cam.get_corner_rays()\n",
    "# rays = corner_rays\n",
    "# ecef_locs = cam.cast_rays(rays, pos_vecs)\n",
    "# lon, lat = cam.ecef_to_llh(ecef_locs)\n",
    "# print(lon, lat)\n",
    "\n",
    "# a = torch.tensor(6378137.0, device='cuda', dtype=torch.double)\n",
    "# c = torch.tensor(6356752.31424518, device='cuda', dtype=torch.double)\n",
    "# f = (a - c) / a\n",
    "# e_sq = f * (2 - f)\n",
    "# eps = e_sq / (1.0 - e_sq)\n",
    "# xs = ecef_locs[:, 0]\n",
    "# ys = ecef_locs[:, 1]\n",
    "# zs = ecef_locs[:, 2]\n",
    "# p = torch.sqrt(xs**2 + ys**2)\n",
    "# q = torch.atan2(zs * a, p * c)\n",
    "# sin_q = torch.sin(q)\n",
    "# cos_q = torch.cos(q)\n",
    "# sin_q3 = sin_q**3\n",
    "# cos_q3 = cos_q**3\n",
    "# phi = torch.atan2(zs + eps * c * sin_q3, p - e_sq * a * cos_q3)\n",
    "# lam = torch.atan2(ys, xs)\n",
    "# v = a / torch.sqrt(1.0 - e_sq * torch.sin(phi)**2)\n",
    "# h = p / torch.cos(phi) - v\n",
    "# lat = torch.rad2deg(phi)\n",
    "# lon = torch.rad2deg(lam)\n",
    "# print(lat, lon)\n",
    "\n",
    "# print(corner_rays.shape)\n",
    "# a = b = torch.tensor(6378137.0, device=device, dtype=dtype)\n",
    "# c = torch.tensor(6356752.31424518, device=device, dtype=dtype)\n",
    "# us = rays[:, 0, :]\n",
    "# vs = rays[:, 1, :]\n",
    "# ws = rays[:, 2, :]\n",
    "# x = pos_vecs.x.unsqueeze(-1)\n",
    "# y = pos_vecs.y.unsqueeze(-1)\n",
    "# z = pos_vecs.z.unsqueeze(-1)\n",
    "# print(x.shape, us.shape)\n",
    "\n",
    "# value = -a**2*b**2*ws*z - a**2*c**2*vs*y - b**2*c**2*us*x\n",
    "# radical = a**2*b**2*ws**2 + a**2*c**2*vs**2 - a**2*vs**2*z**2 + 2*a**2*vs*ws*y*z - a**2*ws**2*y**2 + b**2*c**2*us**2 - b**2*us**2*z**2 + 2*b**2*us*ws*x*z - b**2*ws**2*x**2 - c**2*us**2*y**2 + 2*c**2*us*vs*x*y - c**2*vs**2*x**2\n",
    "# magnitude = a**2*b**2*ws**2 + a**2*c**2*vs**2 + b**2*c**2*us**2\n",
    "# d = (value - a*b*c*torch.sqrt(radical)) / magnitude\n",
    "# d[d < 0] = torch.nan\n",
    "\n",
    "# xs_ecef = x + us*d\n",
    "# ys_ecef = y + vs*d\n",
    "# zs_ecef = z + ws*d\n",
    "\n",
    "# torch.stack([xs_ecef, ys_ecef, zs_ecef], dim=1).shape\n",
    "\n",
    "# C_cw_inv = torch.inverse(C_cw)\n",
    "# print(C_cw.shape)\n",
    "\n",
    "# pixel_locs = cam.pixel_locs\n",
    "# pixel_locs_hom = torch.cat([pixel_locs, torch.zeros((pixel_locs.shape[0], 1), device=device, dtype=dtype)], dim=1)\n",
    "# corner_locs_hom = torch.tensor([[0, 0, 1, 0], [0, 2592, 1, 0], [4608, 0, 1, 0], [4608, 2592, 1, 0]], device=device, dtype=dtype)\n",
    "# print(corner_locs_hom)\n",
    "\n",
    "# ray_vecs = torch.matmul(C_cw_inv, corner_locs_hom.t())\n",
    "# print(ray_vecs[0])\n",
    "# print(ray_vecs[:, :3, :].shape, torch.norm(ray_vecs[:, :3, :], dim=1).unsqueeze(1).shape)\n",
    "# ray_vecs = ray_vecs[:, :3, :] / torch.norm(ray_vecs[:, :3, :], dim=1).unsqueeze(1)"
   ]
  },
  {
   "cell_type": "code",
   "execution_count": null,
   "metadata": {},
   "outputs": [],
   "source": [
    "# R_cw = torch.stack([right_vecs.get().t(), -up_vecs.get().t(), dir_vecs.get().t()],dim=-1)\n",
    "# print(R_cw.shape)\n",
    "# pos_c = -torch.matmul(R_cw, pos_vecs.get().t().unsqueeze(-1))\n",
    "# K = cam.K\n",
    "# print(K)\n",
    "# K_hom = torch.cat((K, torch.tensor([[0, 0, 0]], dtype=dtype, device=device)))\n",
    "# K_hom = torch.cat((K_hom, torch.tensor([[0, 0, 0, 1]], dtype=dtype, device=device).t()), dim=1)\n",
    "# print(K_hom)\n",
    "# print(R_cw.shape, pos_c.shape)\n",
    "# E = torch.cat((R_cw, pos_c), dim=-1)\n",
    "# hombatch = torch.zeros((E.shape[0], 1, 4), dtype=dtype, device=device)\n",
    "# hombatch[:,:,-1] = 1\n",
    "# print(E.shape, hombatch.shape)\n",
    "# E_hom = torch.cat((E, hombatch),dim=1)\n",
    "# torch.matmul(K_hom, E_hom)\n"
   ]
  },
  {
   "cell_type": "code",
   "execution_count": null,
   "metadata": {},
   "outputs": [],
   "source": [
    "# device = 'cuda'\n",
    "# dtype = torch.float64\n",
    "# pose = [549496.7936069818, -6128343.990241624, 3287548.8567509046,\n",
    "#         -0.07876803246160267, 0.878472092968163, -0.4712561712468741,\n",
    "#         -0.04208625123151773, 0.46937312065726633, 0.8819963838144332,\n",
    "#         0.9960041890069568, 0.08930652540881052, -0.0]\n",
    "# pos_vec = Vector3D(*pose[:3], device, dtype)\n",
    "# dir_vec = Vector3D(*pose[3:6], device, dtype)\n",
    "# up_vec = Vector3D(*pose[6:9], device, dtype)\n",
    "# right_vec = Vector3D(*pose[9:12], device, dtype)"
   ]
  }
 ],
 "metadata": {
  "kernelspec": {
   "display_name": "argus1",
   "language": "python",
   "name": "python3"
  },
  "language_info": {
   "codemirror_mode": {
    "name": "ipython",
    "version": 3
   },
   "file_extension": ".py",
   "mimetype": "text/x-python",
   "name": "python",
   "nbconvert_exporter": "python",
   "pygments_lexer": "ipython3",
   "version": "3.12.1"
  }
 },
 "nbformat": 4,
 "nbformat_minor": 2
}
