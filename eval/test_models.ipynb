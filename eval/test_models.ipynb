{
 "cells": [
  {
   "cell_type": "code",
   "execution_count": 2,
   "metadata": {},
   "outputs": [],
   "source": [
    "from ultralytics import YOLO\n",
    "import os"
   ]
  },
  {
   "cell_type": "code",
   "execution_count": 3,
   "metadata": {},
   "outputs": [
    {
     "data": {
      "text/plain": [
       "['10stest.pt']"
      ]
     },
     "execution_count": 3,
     "metadata": {},
     "output_type": "execute_result"
    }
   ],
   "source": [
    "#models = os.listdir('../sim/models')\n",
    "models = ['10stest.pt']\n",
    "models"
   ]
  },
  {
   "cell_type": "code",
   "execution_count": 7,
   "metadata": {},
   "outputs": [
    {
     "name": "stdout",
     "output_type": "stream",
     "text": [
      "Ultralytics YOLOv8.1.19 🚀 Python-3.12.1 torch-2.2.0 CUDA:0 (NVIDIA GeForce RTX 3090, 24576MiB)\n",
      "Model summary (fused): 168 layers, 11317149 parameters, 0 gradients, 29.5 GFLOPs\n"
     ]
    },
    {
     "name": "stderr",
     "output_type": "stream",
     "text": [
      "\u001b[34m\u001b[1mval: \u001b[0mScanning C:\\Users\\kmccl\\VINSat\\eval\\datasets\\10S\\labels.cache... 500 images, 35 backgrounds, 0 corrupt: 100%|██████████| 500/500 [00:00<?, ?it/s]\n",
      "                 Class     Images  Instances      Box(P          R      mAP50  mAP50-95):   0%|          | 0/32 [00:00<?, ?it/s]"
     ]
    }
   ],
   "source": [
    "map50s = []\n",
    "map75s = []\n",
    "map5095s = []\n",
    "map5095_cats = []\n",
    "for model_file in models:\n",
    "    region = model_file[:3]\n",
    "    model = YOLO(model_file)\n",
    "    metrics = model.val(data=region + '.yaml')\n",
    "    map50 = metrics.box.map50\n",
    "    map75 = metrics.box.map75\n",
    "    map5095 = metrics.box.map\n",
    "    map5095_cat = metrics.box.maps\n",
    "    map50s.append(map50)\n",
    "    map75s.append(map75)\n",
    "    map5095s.append(map5095)\n",
    "    map5095_cats.append(map5095_cat)\n",
    "    print(f'{model_file}: map50={map50}, map75={map75}, map5095={map5095}')"
   ]
  },
  {
   "cell_type": "code",
   "execution_count": null,
   "metadata": {},
   "outputs": [],
   "source": []
  }
 ],
 "metadata": {
  "kernelspec": {
   "display_name": "argus1",
   "language": "python",
   "name": "python3"
  },
  "language_info": {
   "codemirror_mode": {
    "name": "ipython",
    "version": 3
   },
   "file_extension": ".py",
   "mimetype": "text/x-python",
   "name": "python",
   "nbconvert_exporter": "python",
   "pygments_lexer": "ipython3",
   "version": "3.12.1"
  }
 },
 "nbformat": 4,
 "nbformat_minor": 2
}
