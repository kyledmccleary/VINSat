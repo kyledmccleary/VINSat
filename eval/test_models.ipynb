{
 "cells": [
  {
   "cell_type": "code",
   "execution_count": 2,
   "metadata": {},
   "outputs": [],
   "source": [
    "from ultralytics import YOLO\n",
    "import os"
   ]
  },
  {
   "cell_type": "code",
   "execution_count": 4,
   "metadata": {},
   "outputs": [
    {
     "data": {
      "text/plain": [
       "['10S.pt',\n",
       " '10T.pt',\n",
       " '11R.pt',\n",
       " '12R.pt',\n",
       " '16T.pt',\n",
       " '17R.pt',\n",
       " '17T.pt',\n",
       " '18S.pt',\n",
       " '32S.pt',\n",
       " '32T.pt',\n",
       " '33S.pt',\n",
       " '33T.pt',\n",
       " '52S.pt',\n",
       " '53S.pt',\n",
       " '54S.pt',\n",
       " '54T.pt']"
      ]
     },
     "execution_count": 4,
     "metadata": {},
     "output_type": "execute_result"
    }
   ],
   "source": [
    "models = os.listdir('../sim/models')\n",
    "models"
   ]
  },
  {
   "cell_type": "code",
   "execution_count": null,
   "metadata": {},
   "outputs": [],
   "source": [
    "map50s = []\n",
    "map75s = []\n",
    "map5095s = []\n",
    "map5095_cats = []\n",
    "for model_file in models:\n",
    "    region = model_file[:3]\n",
    "    model = YOLO(model_file)\n",
    "    metrics = model.validate(data='test_dataset/'+region + '.yaml')\n",
    "    map50 = metrics.box.map50\n",
    "    map75 = metrics.box.map75\n",
    "    map5095 = metrics.box.map\n",
    "    map5095_cat = metrics.box.maps\n",
    "    map50s.append(map50)\n",
    "    map75s.append(map75)\n",
    "    map5095s.append(map5095)\n",
    "    map5095_cats.append(map5095_cat)\n",
    "    print(f'{model_file}: map50={map50}, map75={map75}, map5095={map5095}, map5095_cats={map5095_cat}')"
   ]
  }
 ],
 "metadata": {
  "kernelspec": {
   "display_name": "argus1",
   "language": "python",
   "name": "python3"
  },
  "language_info": {
   "codemirror_mode": {
    "name": "ipython",
    "version": 3
   },
   "file_extension": ".py",
   "mimetype": "text/x-python",
   "name": "python",
   "nbconvert_exporter": "python",
   "pygments_lexer": "ipython3",
   "version": "3.12.1"
  }
 },
 "nbformat": 4,
 "nbformat_minor": 2
}
